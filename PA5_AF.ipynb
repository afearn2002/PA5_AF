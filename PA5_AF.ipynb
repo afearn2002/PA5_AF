{
 "cells": [
  {
   "cell_type": "markdown",
   "id": "e6493e22",
   "metadata": {},
   "source": [
    "# Task 1 \n",
    "\n",
    "Language Translator - write a program that implements a translation dictionary using a\n",
    "Python dictionary data structure that maps 10 English words to 10 words in another language (e.g.\n",
    "Spanish, German, Farsi, Arabic,Japanese, etc.). The keysin your dictionary should be in English\n",
    "(all lower case), and your values should be in your target language (also all lowercase). Your\n",
    "program should ask for words in English to translate to your target language until the user enters\n",
    "the number zero (0).\n",
    "\n",
    "Enter a word to translate from English to Irish (enter 0 to stop)\n",
    ": couch\n",
    "The Irish word for COUCH is outside this dictionary.\n",
    "\n",
    "Enter a word to translate from English to Irish (enter 0 to stop)\n",
    ": chair\n",
    "The Irish word for chair is CATHAOIR.\n",
    "\n",
    "Enter a word to translate from English to Irish (enter 0 to stop)\n",
    ": cat\n",
    "The Irish word for CAT is not in this dictionary.\n",
    "\n",
    "Enter a word to translate from English to Irish (enter 0 to stop)\n",
    ": dog\n",
    "The Irish word for DOG is not in this dictionary.\n",
    "\n",
    "Enter a word to translate from English to Irish (enter 0 to stop)\n",
    ": 0\n",
    "\n",
    "All of the code should be contained in one cell in your Jupyter Notebook and hardcode the dictionary (no\n",
    "need to ask the user to fill the dictionary)."
   ]
  },
  {
   "cell_type": "code",
   "execution_count": 5,
   "id": "e0a27756",
   "metadata": {},
   "outputs": [
    {
     "name": "stdout",
     "output_type": "stream",
     "text": [
      "Enter a word to translate from English to French (enter 0 to stop): door\n",
      "The French word for door is porte.\n",
      "Enter a word to translate from English to French (enter 0 to stop): sky\n",
      "The French word for sky is ciel.\n",
      "Enter a word to translate from English to French (enter 0 to stop): hand\n",
      "The French word for hand is main.\n",
      "Enter a word to translate from English to French (enter 0 to stop): car\n",
      "The word car is not in this dictionary.\n",
      "Enter a word to translate from English to French (enter 0 to stop): 0\n"
     ]
    }
   ],
   "source": [
    "dict1 = {\n",
    "    'sky': 'ciel',\n",
    "    'shirt': 'chemise',\n",
    "    'hat': 'chapeau',\n",
    "    'door': 'porte',\n",
    "    'apple': 'pomme',\n",
    "    'pineapple': 'ananas',\n",
    "    'tree': 'arbre',\n",
    "    'pencil': 'crayon',\n",
    "    'computer': 'ordinateur',\n",
    "    'hand': 'main'\n",
    "}\n",
    "\n",
    "def translate_word(word):\n",
    "    word = word.lower()\n",
    "    if word in dict1:\n",
    "        return f\"The French word for {word} is {dict1[word]}.\"\n",
    "    else:\n",
    "        return f\"The word {word} is not in this dictionary.\"\n",
    "while True:\n",
    "    word = input(\"Enter a word to translate from English to French (enter 0 to stop): \")\n",
    "    if word == \"0\":\n",
    "        break\n",
    "    translation = translate_word(word)\n",
    "    print(translation)"
   ]
  },
  {
   "cell_type": "markdown",
   "id": "5883594c",
   "metadata": {},
   "source": [
    "# Task 2\n",
    "\n",
    "Temperature converter- Create a dictionary named temp_dict containing the highest\n",
    "temperature in Fahrenheit for each day of September 2023 in Louisville, Kentucky. The keys will be the\n",
    "day of the month, and the values will be the temperature in Fahrenheit. Access each temperature value in\n",
    "Fahrenheit from the dictionary, convert it to Celsius using the formula (temperature - 32) * 5/9, and\n",
    "update the original dictionary with the Celsius value. Take help from the weather app to create a correct\n",
    "dictionary."
   ]
  },
  {
   "cell_type": "code",
   "execution_count": 6,
   "id": "bc7c2338",
   "metadata": {},
   "outputs": [
    {
     "name": "stdout",
     "output_type": "stream",
     "text": [
      "September 1, 2023 - Temperature: 31.11°C\n",
      "September 2, 2023 - Temperature: 32.78°C\n",
      "September 3, 2023 - Temperature: 33.33°C\n",
      "September 4, 2023 - Temperature: 33.89°C\n",
      "September 5, 2023 - Temperature: 32.22°C\n",
      "September 6, 2023 - Temperature: 28.89°C\n",
      "September 7, 2023 - Temperature: 25.00°C\n",
      "September 8, 2023 - Temperature: 28.89°C\n",
      "September 9, 2023 - Temperature: 27.22°C\n",
      "September 10, 2023 - Temperature: 28.89°C\n",
      "September 11, 2023 - Temperature: 30.56°C\n",
      "September 12, 2023 - Temperature: 26.67°C\n",
      "September 13, 2023 - Temperature: 27.22°C\n",
      "September 14, 2023 - Temperature: 27.78°C\n",
      "September 15, 2023 - Temperature: 27.22°C\n",
      "September 16, 2023 - Temperature: 28.33°C\n",
      "September 17, 2023 - Temperature: 26.11°C\n",
      "September 18, 2023 - Temperature: 26.67°C\n",
      "September 19, 2023 - Temperature: 27.22°C\n",
      "September 20, 2023 - Temperature: 29.44°C\n",
      "September 21, 2023 - Temperature: 30.00°C\n",
      "September 22, 2023 - Temperature: 31.67°C\n",
      "September 23, 2023 - Temperature: 28.33°C\n",
      "September 24, 2023 - Temperature: 28.89°C\n",
      "September 25, 2023 - Temperature: 30.56°C\n",
      "September 26, 2023 - Temperature: 31.67°C\n",
      "September 27, 2023 - Temperature: 28.33°C\n",
      "September 28, 2023 - Temperature: 27.78°C\n",
      "September 29, 2023 - Temperature: 29.44°C\n",
      "September 30, 2023 - Temperature: 30.00°C\n"
     ]
    }
   ],
   "source": [
    "temp_dict = {\n",
    "    1: 88, 2: 91, 3: 92, 4: 93, 5: 90, 6: 84, 7: 77, 8: 84, 9: 81,\n",
    "    10: 84, 11: 87, 12: 80, 13: 81, 14: 82, 15: 81, 16: 83, 17: 79,\n",
    "    18: 80, 19: 81, 20: 85, 21: 86, 22: 89, 23: 83, 24: 84, 25: 87, 26: 89, 27: 83,\n",
    "    28: 82, 29: 85, 30: 86\n",
    "}\n",
    "\n",
    "def fahrenheit_to_celsius(fahrenheit):\n",
    "    return (fahrenheit - 32) * 5/9\n",
    "for day, fahrenheit_temp in temp_dict.items():\n",
    "    celsius_temp = fahrenheit_to_celsius(fahrenheit_temp)\n",
    "    temp_dict[day] = celsius_temp\n",
    "for day, temp in temp_dict.items():\n",
    "    print(f\"September {day}, 2023 - Temperature: {temp:.2f}°C\")"
   ]
  },
  {
   "cell_type": "markdown",
   "id": "175b6b00",
   "metadata": {},
   "source": [
    "# Task 3\n",
    "\n",
    "Write a Python script to create a dictionary where the keys are numbers between 1 and\n",
    "15 (both included) and the values are the squares of the keys."
   ]
  },
  {
   "cell_type": "code",
   "execution_count": 12,
   "id": "e2d84a52",
   "metadata": {},
   "outputs": [
    {
     "name": "stdout",
     "output_type": "stream",
     "text": [
      "{1: 1, 2: 4, 3: 9, 4: 16, 5: 25, 6: 36, 7: 49, 8: 64, 9: 81, 10: 100, 11: 121, 12: 144, 13: 169, 14: 196, 15: 225}\n"
     ]
    }
   ],
   "source": [
    "dict2 = {}\n",
    "for num in range(1, 16):\n",
    "    dict2[num] = num ** 2\n",
    "print(dict2)"
   ]
  },
  {
   "cell_type": "markdown",
   "id": "89577373",
   "metadata": {},
   "source": [
    "# Task4\n",
    "\n",
    "User Profile Dictionary\n",
    "Create a Python program that manages user profiles using a dictionary. Follow these steps:\n",
    "\n",
    "A. Create an empty dictionary named user_profiles to store user information.\n",
    "\n",
    "B. Implement a while loop that allows users to input their information. The loop should\n",
    "repeatedly ask the user to enter their name, age, email, and city. Add this information to the\n",
    "user_profiles dictionary.\n",
    "\n",
    "C. Add a break condition to exit the loop.\n",
    "\n",
    "D. Ask the user to input their information and add it to the dictionary. Allow the user to search\n",
    "for a specific user's profile by providing their name. If the user is found, display their profile;\n",
    "otherwise, show a message that the user is not found."
   ]
  },
  {
   "cell_type": "code",
   "execution_count": 15,
   "id": "ed018fd9",
   "metadata": {},
   "outputs": [
    {
     "name": "stdout",
     "output_type": "stream",
     "text": [
      "Enter your name (or 0 to exit): Aidan\n",
      "Enter your age: 21\n",
      "Enter your email: afearn@bellarmine.edu\n",
      "Enter your city: Louisville\n",
      "Enter your name (or 0 to exit): 0\n",
      "Enter a name to search for a user's profile: Aidan\n",
      "User Profile for Aidan:\n",
      "Age: 21\n",
      "Email: afearn@bellarmine.edu\n",
      "City: Louisville\n"
     ]
    }
   ],
   "source": [
    "user_profiles = {}\n",
    "while True:\n",
    "    name = input(\"Enter your name (or 0 to exit): \")\n",
    "    if name == '0':\n",
    "        break\n",
    "    age = input(\"Enter your age: \")\n",
    "    email = input(\"Enter your email: \")\n",
    "    city = input(\"Enter your city: \")\n",
    "    user_profiles[name] = {'Age': age, 'Email': email, 'City': city}\n",
    "search_name = input(\"Enter a name to search for a user's profile: \")\n",
    "if search_name in user_profiles:\n",
    "    user_profile = user_profiles[search_name]\n",
    "    print(f\"User Profile for {search_name}:\")\n",
    "    for key, value in user_profile.items():\n",
    "        print(f\"{key}: {value}\")\n",
    "else:\n",
    "    print(f\"User '{search_name}' not found in the profiles.\")"
   ]
  }
 ],
 "metadata": {
  "kernelspec": {
   "display_name": "Python 3 (ipykernel)",
   "language": "python",
   "name": "python3"
  },
  "language_info": {
   "codemirror_mode": {
    "name": "ipython",
    "version": 3
   },
   "file_extension": ".py",
   "mimetype": "text/x-python",
   "name": "python",
   "nbconvert_exporter": "python",
   "pygments_lexer": "ipython3",
   "version": "3.11.4"
  }
 },
 "nbformat": 4,
 "nbformat_minor": 5
}
